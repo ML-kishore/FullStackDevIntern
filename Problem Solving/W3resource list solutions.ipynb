{
 "cells": [
  {
   "cell_type": "code",
   "execution_count": 5,
   "id": "b1d1b2e2",
   "metadata": {},
   "outputs": [
    {
     "name": "stdout",
     "output_type": "stream",
     "text": [
      "15\n"
     ]
    }
   ],
   "source": [
    "#sum_all_nums\n",
    "sum_numbers = [9,1,2,3]\n",
    "total = 0\n",
    "for i in sum_numbers:\n",
    "    total+=i\n",
    "print(total)"
   ]
  },
  {
   "cell_type": "code",
   "execution_count": 6,
   "id": "3ca4c183",
   "metadata": {},
   "outputs": [
    {
     "name": "stdout",
     "output_type": "stream",
     "text": [
      "384\n"
     ]
    }
   ],
   "source": [
    "#mul_all_items\n",
    "\n",
    "mul_numbers = [2,4,6,8]\n",
    "total = 1\n",
    "for i in mul_numbers:\n",
    "    total*=i\n",
    "print(total)"
   ]
  },
  {
   "cell_type": "code",
   "execution_count": 9,
   "id": "59c38adb",
   "metadata": {},
   "outputs": [
    {
     "name": "stdout",
     "output_type": "stream",
     "text": [
      "14\n"
     ]
    }
   ],
   "source": [
    "#get larger num in a list\n",
    "\n",
    "lst = [14,2,5,9,6]\n",
    "\n",
    "great = 0\n",
    "for current in lst:\n",
    "    if great < current:\n",
    "        great = current\n",
    "        \n",
    "print(great)"
   ]
  },
  {
   "cell_type": "code",
   "execution_count": 14,
   "id": "882588d6",
   "metadata": {},
   "outputs": [
    {
     "name": "stdout",
     "output_type": "stream",
     "text": [
      "2\n"
     ]
    }
   ],
   "source": [
    "#smaller number in a list\n",
    "\n",
    "lst = [14,2,5,9,6]\n",
    "\n",
    "small = lst[0]\n",
    "for cur in lst:\n",
    "    if small > cur:\n",
    "        small = cur\n",
    "print(small)\n"
   ]
  },
  {
   "cell_type": "code",
   "execution_count": 4,
   "id": "8341299c",
   "metadata": {},
   "outputs": [
    {
     "name": "stdout",
     "output_type": "stream",
     "text": [
      "3\n"
     ]
    }
   ],
   "source": [
    "#Count Strings with Same Start and End\n",
    "\n",
    "lst = ['abc','aba','1221','bab']\n",
    "\n",
    "count = 0\n",
    "for i in lst:\n",
    "    if len(i)>2 and i[0]==i[len(i)-1]:\n",
    "        count+=1\n",
    "print(count)"
   ]
  },
  {
   "cell_type": "code",
   "execution_count": 13,
   "id": "e2fd63b2",
   "metadata": {},
   "outputs": [
    {
     "name": "stdout",
     "output_type": "stream",
     "text": [
      "[(1, 2), (2, 1), (2, 3), (2, 5), (4, 4)]\n"
     ]
    }
   ],
   "source": [
    "#Sort Tuples by Last Element\n",
    "\n",
    "def sorted_arr(lst):\n",
    "    return sorted(lst)\n",
    "\n",
    "print(sorted_arr([(2, 5), (1, 2), (4, 4), (2, 3), (2, 1)]))    "
   ]
  },
  {
   "cell_type": "code",
   "execution_count": 9,
   "id": "ca0ffbfc",
   "metadata": {},
   "outputs": [
    {
     "name": "stdout",
     "output_type": "stream",
     "text": [
      "{40, 10, 80, 50, 20, 60, 30}\n"
     ]
    }
   ],
   "source": [
    "#Remove Duplicates from List\n",
    "\n",
    "a = [10, 20, 30, 20, 10, 50, 60, 40, 80, 50, 40]\n",
    "\n",
    "b = set(a)\n",
    "print(b)"
   ]
  },
  {
   "cell_type": "code",
   "execution_count": 24,
   "id": "a42e275b",
   "metadata": {},
   "outputs": [
    {
     "name": "stdout",
     "output_type": "stream",
     "text": [
      "Empty\n"
     ]
    }
   ],
   "source": [
    "#check if list is empty\n",
    "\n",
    "lst = []\n",
    "if len(lst) == 0:\n",
    "    print('Empty')"
   ]
  },
  {
   "cell_type": "code",
   "execution_count": 26,
   "id": "3465b567",
   "metadata": {},
   "outputs": [
    {
     "name": "stdout",
     "output_type": "stream",
     "text": [
      "Feedback\n",
      "Habits\n",
      "Notion\n",
      "Dream\n"
     ]
    }
   ],
   "source": [
    "#find words longer than n=5\n",
    "txt = ['Feedback','Habits','Notion','Kid','Dream']\n",
    "\n",
    "n=5\n",
    "for i in txt:\n",
    "    if len(i) >=n:\n",
    "        print(i)"
   ]
  },
  {
   "cell_type": "code",
   "execution_count": 30,
   "id": "b5fec228",
   "metadata": {},
   "outputs": [
    {
     "name": "stdout",
     "output_type": "stream",
     "text": [
      "['blue', 'yellow', 'orange']\n"
     ]
    }
   ],
   "source": [
    "#remove specific elements\n",
    "\n",
    "clr = ['red','blue','yellow','orange','pink','black']\n",
    "\n",
    "lst = [x for (i,x) in enumerate(clr) if i not in (0,4,5) ]\n",
    "print(lst)"
   ]
  },
  {
   "cell_type": "code",
   "execution_count": 43,
   "id": "360b9467",
   "metadata": {},
   "outputs": [
    {
     "name": "stdout",
     "output_type": "stream",
     "text": [
      "[[['#', '#', '#', '#', '#', '#'], ['#', '#', '#', '#', '#', '#'], ['#', '#', '#', '#', '#', '#'], ['#', '#', '#', '#', '#', '#']], [['#', '#', '#', '#', '#', '#'], ['#', '#', '#', '#', '#', '#'], ['#', '#', '#', '#', '#', '#'], ['#', '#', '#', '#', '#', '#']], [['#', '#', '#', '#', '#', '#'], ['#', '#', '#', '#', '#', '#'], ['#', '#', '#', '#', '#', '#'], ['#', '#', '#', '#', '#', '#']]]\n"
     ]
    }
   ],
   "source": [
    "arr = [[['#' for col in range(6)] for col in range(4)]for row in range(3)]\n",
    "print(arr)"
   ]
  },
  {
   "cell_type": "code",
   "execution_count": 16,
   "id": "ba1db00e",
   "metadata": {},
   "outputs": [
    {
     "name": "stdout",
     "output_type": "stream",
     "text": [
      "[1, 3, 5, 7, 9]\n"
     ]
    }
   ],
   "source": [
    "nums = [0,1,2,3,4,5,6,7,8,9,10]\n",
    "\n",
    "numms = [x for x in nums if x%2 != 0]\n",
    "\n",
    "print(numms)\n"
   ]
  },
  {
   "cell_type": "code",
   "execution_count": 7,
   "id": "f688b152",
   "metadata": {},
   "outputs": [
    {
     "name": "stdout",
     "output_type": "stream",
     "text": [
      "[1, 4, 9, 16, 25]\n",
      "[256, 289, 324, 361, 400]\n"
     ]
    }
   ],
   "source": [
    "#square first and last 5 elements\n",
    "\n",
    "lst = []\n",
    "def squarer(lst):\n",
    "    for i in range(1,21):\n",
    "        lst.append(i**2)\n",
    "        \n",
    "    print(lst[0:5])\n",
    "    print(lst[-5:])\n",
    "    \n",
    "squarer(lst)"
   ]
  },
  {
   "cell_type": "code",
   "execution_count": 20,
   "id": "bcb6b665",
   "metadata": {},
   "outputs": [
    {
     "name": "stdout",
     "output_type": "stream",
     "text": [
      "[(1, 2, 3), (1, 3, 2), (2, 1, 3), (2, 3, 1), (3, 1, 2), (3, 2, 1)]\n"
     ]
    }
   ],
   "source": [
    "#permutations\n",
    "import itertools \n",
    "\n",
    "print(list(itertools.permutations([1,2,3])))"
   ]
  },
  {
   "cell_type": "code",
   "execution_count": 28,
   "id": "fadb13fb",
   "metadata": {},
   "outputs": [
    {
     "name": "stdout",
     "output_type": "stream",
     "text": [
      "[2, 3, 4, 5, 6, 8, 9]\n"
     ]
    }
   ],
   "source": [
    "#set difference between lists\n",
    "lst1 = [1,3,5,7,9]\n",
    "lst2 = [1,2,4,6,7,8]\n",
    "\n",
    "diff1 = list(set(lst1) - set(lst2))\n",
    "\n",
    "diff2 = list(set(lst2) - set(lst1))\n",
    "\n",
    "total_diff = diff2 + diff1\n",
    "\n",
    "print(sorted(total_diff))\n"
   ]
  },
  {
   "cell_type": "code",
   "execution_count": 29,
   "id": "8a5956b8",
   "metadata": {},
   "outputs": [
    {
     "name": "stdout",
     "output_type": "stream",
     "text": [
      "0 5\n",
      "1 15\n",
      "2 2\n",
      "3 3\n",
      "4 4\n"
     ]
    }
   ],
   "source": [
    "#access the list index using enumerate\n",
    "             \n",
    "lst1 = [5,15,2,3,4]\n",
    "for idx,i in enumerate(lst1):\n",
    "    print(idx,i)"
   ]
  },
  {
   "cell_type": "code",
   "execution_count": 31,
   "id": "c5c0709b",
   "metadata": {},
   "outputs": [
    {
     "name": "stdout",
     "output_type": "stream",
     "text": [
      "RRR\n"
     ]
    }
   ],
   "source": [
    "#list items into a string\n",
    "s = ['R','R','R']\n",
    "\n",
    "str1 = ''.join(s)\n",
    "print(str1)"
   ]
  },
  {
   "cell_type": "code",
   "execution_count": 34,
   "id": "019c113b",
   "metadata": {},
   "outputs": [
    {
     "name": "stdout",
     "output_type": "stream",
     "text": [
      "1\n"
     ]
    }
   ],
   "source": [
    "#finding index using index()\n",
    "lst1 = [5,15,2,3,4]\n",
    "\n",
    "print(lst1.index(15))"
   ]
  },
  {
   "cell_type": "code",
   "execution_count": 35,
   "id": "9c38bbe2",
   "metadata": {},
   "outputs": [
    {
     "name": "stdout",
     "output_type": "stream",
     "text": [
      "[2, 4, 3, 1, 2, 6, 9]\n"
     ]
    }
   ],
   "source": [
    "import itertools\n",
    "\n",
    "og = [[2,4,3],[1,2,6],[9]]\n",
    "\n",
    "new = list(itertools.chain(*og))\n",
    "print(new)"
   ]
  },
  {
   "cell_type": "code",
   "execution_count": 42,
   "id": "0b8227e8",
   "metadata": {},
   "outputs": [
    {
     "name": "stdout",
     "output_type": "stream",
     "text": [
      "1\n"
     ]
    }
   ],
   "source": [
    "#random item from list\n",
    "\n",
    "import random\n",
    "lst = [1,6,2,3,5]\n",
    "curr=random.choice(lst)\n",
    "print(curr)"
   ]
  },
  {
   "cell_type": "code",
   "execution_count": 43,
   "id": "22b65b84",
   "metadata": {},
   "outputs": [
    {
     "name": "stdout",
     "output_type": "stream",
     "text": [
      "True\n"
     ]
    }
   ],
   "source": [
    "#circularly identical lists\n",
    "\n",
    "list1=[10,10,0,0,10]\n",
    "list2=[10,10,0,0,10]\n",
    "list3=[1,10,10,0,0]\n",
    "\n",
    "print(''.join(map(str,list2)) in ''.join(map(str,list1 * 2)))\n",
    "\n"
   ]
  },
  {
   "cell_type": "code",
   "execution_count": 9,
   "id": "f5745f5c",
   "metadata": {},
   "outputs": [
    {
     "name": "stdout",
     "output_type": "stream",
     "text": [
      "[2, 4, 6, 8, 10]\n"
     ]
    }
   ],
   "source": [
    "lst = [1,2,3,4,5,6,7,8,9,10]\n",
    "print(lst[1:10:2])"
   ]
  },
  {
   "cell_type": "code",
   "execution_count": 6,
   "id": "f35a8833",
   "metadata": {},
   "outputs": [
    {
     "name": "stdout",
     "output_type": "stream",
     "text": [
      "7\n"
     ]
    }
   ],
   "source": [
    "#second largest number\n",
    "\n",
    "lst = [7,5,3,2,2]\n",
    "sorted_lst = sorted(lst)\n",
    "second_large = sorted_lst[-1]\n",
    "print(second_large)"
   ]
  },
  {
   "cell_type": "code",
   "execution_count": 8,
   "id": "de1a7c06",
   "metadata": {},
   "outputs": [
    {
     "name": "stdout",
     "output_type": "stream",
     "text": [
      "[40, 110, 80, 20, 60]\n"
     ]
    }
   ],
   "source": [
    "#unique values in a list\n",
    "my_list = [20,20,40,60,110,80,60]\n",
    "my_list = set(my_list)\n",
    "new_list = list(my_list)\n",
    "print(new_list)"
   ]
  },
  {
   "cell_type": "code",
   "execution_count": 11,
   "id": "49d259c9",
   "metadata": {},
   "outputs": [
    {
     "name": "stdout",
     "output_type": "stream",
     "text": [
      "[10, 10, 10, 10, 20, 20, 20, 20, 40, 40, 50, 50, 30]\n",
      "{10: 4, 20: 4, 40: 2, 50: 2, 30: 1}\n"
     ]
    }
   ],
   "source": [
    "#frequency of a list\n",
    "my_list = [10, 10, 10, 10, 20, 20, 20, 20, 40, 40, 50, 50, 30]\n",
    "dictionary = {}\n",
    "for i in my_list:\n",
    "    if i not in dictionary:\n",
    "        dictionary[i] = 1\n",
    "    else:\n",
    "        dictionary[i]+=1\n",
    "        \n",
    "print(my_list)\n",
    "print(dictionary)"
   ]
  },
  {
   "cell_type": "code",
   "execution_count": 1,
   "id": "0accca1c",
   "metadata": {},
   "outputs": [
    {
     "name": "stdout",
     "output_type": "stream",
     "text": [
      "6\n"
     ]
    }
   ],
   "source": [
    "#count of numbers in a range\n",
    "def ctr(lst,min_,max_):\n",
    "    count = 0\n",
    "    for i in lst:\n",
    "        if i >=min_ and i<=max_:\n",
    "            count+=1\n",
    "    return count\n",
    "\n",
    "lst = [20,30,11,22,44,55,56,34,29]\n",
    "print(ctr(lst,10,40))"
   ]
  },
  {
   "cell_type": "code",
   "execution_count": 6,
   "id": "1e4eaf17",
   "metadata": {},
   "outputs": [
    {
     "name": "stdout",
     "output_type": "stream",
     "text": [
      "[5, 3]\n"
     ]
    }
   ],
   "source": [
    "l = [1,3,5,6]\n",
    "s = [5,3]\n",
    "subset = []\n",
    "for i in s:\n",
    "    for j in l:\n",
    "        if i == j:\n",
    "            subset.append(i)\n",
    "print(subset)\n",
    "\n"
   ]
  },
  {
   "cell_type": "code",
   "execution_count": 15,
   "id": "528b0276",
   "metadata": {},
   "outputs": [
    {
     "name": "stdout",
     "output_type": "stream",
     "text": [
      "[[], ['X'], ['Y'], ['Z'], ['X', 'Y'], ['X', 'Z'], ['Y', 'Z'], ['X', 'Y', 'Z']]\n"
     ]
    }
   ],
   "source": [
    "#combination of possible subset\n",
    "from itertools import combinations\n",
    "\n",
    "l = ['X','Y','Z']\n",
    "subs = []\n",
    "for i in range(0,len(l)+1):\n",
    "    temp = [list(x) for x in combinations(l,i)]\n",
    "    subs.extend(temp)\n",
    "print(subs)"
   ]
  },
  {
   "cell_type": "code",
   "execution_count": 17,
   "id": "e23c554f",
   "metadata": {},
   "outputs": [
    {
     "name": "stdout",
     "output_type": "stream",
     "text": [
      "['p1', 'q1', 'p2', 'q2', 'p3', 'q3', 'p4', 'q4', 'p5', 'q5']\n"
     ]
    }
   ],
   "source": [
    "#range concetation\n",
    "\n",
    "lst = ['p','q']\n",
    "n = 5\n",
    "new_l = ['{}{}'.format(x,y) for y in range(1,n+1) for x in lst]\n",
    "print(new_l)"
   ]
  },
  {
   "cell_type": "code",
   "execution_count": 23,
   "id": "8e708a1a",
   "metadata": {},
   "outputs": [
    {
     "name": "stdout",
     "output_type": "stream",
     "text": [
      "112250\n"
     ]
    }
   ],
   "source": [
    "lst = [11,22,50]\n",
    "lst = [str(x) for x in lst]\n",
    "print(''.join(lst))"
   ]
  },
  {
   "cell_type": "code",
   "execution_count": null,
   "id": "ba7736c8",
   "metadata": {},
   "outputs": [],
   "source": []
  },
  {
   "cell_type": "code",
   "execution_count": null,
   "id": "bab57eaf",
   "metadata": {},
   "outputs": [],
   "source": []
  },
  {
   "cell_type": "code",
   "execution_count": null,
   "id": "583ffbd6",
   "metadata": {},
   "outputs": [],
   "source": []
  },
  {
   "cell_type": "code",
   "execution_count": null,
   "id": "eb9fca02",
   "metadata": {},
   "outputs": [],
   "source": []
  },
  {
   "cell_type": "code",
   "execution_count": null,
   "id": "ea085b5d",
   "metadata": {},
   "outputs": [],
   "source": []
  },
  {
   "cell_type": "code",
   "execution_count": null,
   "id": "64371def",
   "metadata": {},
   "outputs": [],
   "source": []
  },
  {
   "cell_type": "code",
   "execution_count": null,
   "id": "93664408",
   "metadata": {},
   "outputs": [],
   "source": []
  },
  {
   "cell_type": "code",
   "execution_count": null,
   "id": "b9965e05",
   "metadata": {},
   "outputs": [],
   "source": []
  },
  {
   "cell_type": "code",
   "execution_count": null,
   "id": "d83a6f7e",
   "metadata": {},
   "outputs": [],
   "source": []
  },
  {
   "cell_type": "code",
   "execution_count": null,
   "id": "650b76f7",
   "metadata": {},
   "outputs": [],
   "source": []
  }
 ],
 "metadata": {
  "kernelspec": {
   "display_name": "Python 3 (ipykernel)",
   "language": "python",
   "name": "python3"
  },
  "language_info": {
   "codemirror_mode": {
    "name": "ipython",
    "version": 3
   },
   "file_extension": ".py",
   "mimetype": "text/x-python",
   "name": "python",
   "nbconvert_exporter": "python",
   "pygments_lexer": "ipython3",
   "version": "3.11.5"
  }
 },
 "nbformat": 4,
 "nbformat_minor": 5
}
