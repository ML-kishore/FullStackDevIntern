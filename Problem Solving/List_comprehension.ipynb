{
 "cells": [
  {
   "cell_type": "code",
   "execution_count": 1,
   "id": "38c92261",
   "metadata": {},
   "outputs": [
    {
     "name": "stdout",
     "output_type": "stream",
     "text": [
      "[0, 7, 14, 21, 28, 35, 42, 49, 56, 63, 70, 77, 84, 91, 98, 105, 112, 119, 126, 133, 140, 147, 154, 161, 168, 175, 182, 189, 196, 203, 210, 217, 224, 231, 238, 245, 252, 259, 266, 273, 280, 287, 294, 301, 308, 315, 322, 329, 336, 343, 350, 357, 364, 371, 378, 385, 392, 399, 406, 413, 420, 427, 434, 441, 448, 455, 462, 469, 476, 483, 490, 497, 504, 511, 518, 525, 532, 539, 546, 553, 560, 567, 574, 581, 588, 595, 602, 609, 616, 623, 630, 637, 644, 651, 658, 665, 672, 679, 686, 693, 700, 707, 714, 721, 728, 735, 742, 749, 756, 763, 770, 777, 784, 791, 798, 805, 812, 819, 826, 833, 840, 847, 854, 861, 868, 875, 882, 889, 896, 903, 910, 917, 924, 931, 938, 945, 952, 959, 966, 973, 980, 987, 994]\n"
     ]
    }
   ],
   "source": [
    "#multiples of 7 upto 1000\n",
    "nums = [nums for nums in range(1000) if nums%7 == 0]\n",
    "print(nums)"
   ]
  },
  {
   "cell_type": "code",
   "execution_count": 6,
   "id": "062b4d52",
   "metadata": {},
   "outputs": [
    {
     "name": "stdout",
     "output_type": "stream",
     "text": [
      "[3, 13, 23, 30, 31, 32, 33, 34, 35, 36, 37, 38, 39, 43, 53, 63, 73, 83, 93, 103, 113, 123, 130, 131, 132, 133, 134, 135, 136, 137, 138, 139, 143, 153, 163, 173, 183, 193, 203, 213, 223, 230, 231, 232, 233, 234, 235, 236, 237, 238, 239, 243, 253, 263, 273, 283, 293, 300, 301, 302, 303, 304, 305, 306, 307, 308, 309, 310, 311, 312, 313, 314, 315, 316, 317, 318, 319, 320, 321, 322, 323, 324, 325, 326, 327, 328, 329, 330, 331, 332, 333, 334, 335, 336, 337, 338, 339, 340, 341, 342, 343, 344, 345, 346, 347, 348, 349, 350, 351, 352, 353, 354, 355, 356, 357, 358, 359, 360, 361, 362, 363, 364, 365, 366, 367, 368, 369, 370, 371, 372, 373, 374, 375, 376, 377, 378, 379, 380, 381, 382, 383, 384, 385, 386, 387, 388, 389, 390, 391, 392, 393, 394, 395, 396, 397, 398, 399, 403, 413, 423, 430, 431, 432, 433, 434, 435, 436, 437, 438, 439, 443, 453, 463, 473, 483, 493, 503, 513, 523, 530, 531, 532, 533, 534, 535, 536, 537, 538, 539, 543, 553, 563, 573, 583, 593, 603, 613, 623, 630, 631, 632, 633, 634, 635, 636, 637, 638, 639, 643, 653, 663, 673, 683, 693, 703, 713, 723, 730, 731, 732, 733, 734, 735, 736, 737, 738, 739, 743, 753, 763, 773, 783, 793, 803, 813, 823, 830, 831, 832, 833, 834, 835, 836, 837, 838, 839, 843, 853, 863, 873, 883, 893, 903, 913, 923, 930, 931, 932, 933, 934, 935, 936, 937, 938, 939, 943, 953, 963, 973, 983, 993]\n"
     ]
    }
   ],
   "source": [
    "#nums include '3' in them\n",
    "nums = [nums for nums in range(1000) if '3' in str(nums)]\n",
    "print(nums)"
   ]
  },
  {
   "cell_type": "code",
   "execution_count": 9,
   "id": "1c856038",
   "metadata": {},
   "outputs": [
    {
     "name": "stdout",
     "output_type": "stream",
     "text": [
      "2\n"
     ]
    }
   ],
   "source": [
    "#count the number of spaces in string\n",
    "\n",
    "str_with_space = \"that one dude\"\n",
    "space = [count for count in str_with_space if count == ' ']\n",
    "print(len(space))"
   ]
  },
  {
   "cell_type": "code",
   "execution_count": 21,
   "id": "e1d6c881",
   "metadata": {},
   "outputs": [
    {
     "name": "stdout",
     "output_type": "stream",
     "text": [
      "61\n"
     ]
    }
   ],
   "source": [
    "#count the no. of consonants\n",
    "sentence = \"Yellow Yaks like yelling and yawning and yesturday they yodled while eating yuky yams\"\n",
    "\n",
    "todo = [x for x in sentence if x not in ['a','e','i','o','u']]\n",
    "print(len(todo))"
   ]
  },
  {
   "cell_type": "code",
   "execution_count": 24,
   "id": "5fb51653",
   "metadata": {},
   "outputs": [
    {
     "name": "stdout",
     "output_type": "stream",
     "text": [
      "[(0, 'hi'), (1, 4), (2, 8.99), (3, 'apple'), (4, ('t,b', 'n'))]\n"
     ]
    }
   ],
   "source": [
    "#enumerate lists into sets\n",
    "\n",
    "items = [\"hi\", 4, 8.99, 'apple', ('t,b','n')]\n",
    "item_list = [(x,y) for (x,y) in enumerate(items)]\n",
    "print(item_list)"
   ]
  },
  {
   "cell_type": "code",
   "execution_count": 27,
   "id": "79b18cf2",
   "metadata": {},
   "outputs": [
    {
     "name": "stdout",
     "output_type": "stream",
     "text": [
      "[1, 3, 6]\n"
     ]
    }
   ],
   "source": [
    "#common values\n",
    "list_a = [1,2,3,5,6]\n",
    "list_b = [1,3,4,6,7]\n",
    "common = [a for a in list_a if a in list_b]\n",
    "print(common)"
   ]
  },
  {
   "cell_type": "code",
   "execution_count": 30,
   "id": "3ff6a13f",
   "metadata": {},
   "outputs": [
    {
     "name": "stdout",
     "output_type": "stream",
     "text": [
      "['1984', '13', '1000']\n"
     ]
    }
   ],
   "source": [
    "sentence = 'In 1984 there were 13 instances of a protest with over 1000 people attending'\n",
    "words = sentence.split(' ')\n",
    "non_words = [s for s in words if not s.isalpha()]\n",
    "print(non_words)"
   ]
  },
  {
   "cell_type": "code",
   "execution_count": 35,
   "id": "5671630b",
   "metadata": {},
   "outputs": [
    {
     "name": "stdout",
     "output_type": "stream",
     "text": [
      "['even 0', 'odd 1', 'even 2', 'odd 3', 'even 4', 'odd 5', 'even 6', 'odd 7', 'even 8', 'odd 9', 'even 10', 'odd 11', 'even 12', 'odd 13', 'even 14', 'odd 15', 'even 16', 'odd 17', 'even 18', 'odd 19']\n"
     ]
    }
   ],
   "source": [
    "#odd or even\n",
    "res = ['even' if s%2 == 0 else \"odd\" for s in range(20)]\n",
    "num = [f\"even {s}\" if s%2 == 0 else f\"odd {s}\" for s in range(20)]\n",
    "print(num)"
   ]
  },
  {
   "cell_type": "code",
   "execution_count": 39,
   "id": "fdcf5c23",
   "metadata": {},
   "outputs": [
    {
     "name": "stdout",
     "output_type": "stream",
     "text": [
      "[(1, 1), (2, 2), (7, 7)]\n"
     ]
    }
   ],
   "source": [
    "#common values in 2 lists\n",
    "list_a = [1, 2, 3,4,5,6,7,8,9]\n",
    "list_b = [2, 7, 1, 12]\n",
    "\n",
    "result = [(a,b) for a in list_a for b in list_b if a == b]\n",
    "print(result)"
   ]
  },
  {
   "cell_type": "code",
   "execution_count": 44,
   "id": "11e159c6",
   "metadata": {},
   "outputs": [
    {
     "name": "stdout",
     "output_type": "stream",
     "text": [
      "{2, 3, 4, 5, 6, 7, 8, 9, 10, 12, 14, 15, 16, 18, 20, 21, 22, 24, 25, 26, 27, 28, 30, 32, 33, 34, 35, 36, 38, 39, 40, 42, 44, 45, 46, 48, 49, 50, 51, 52, 54, 55, 56, 57, 58, 60, 62, 63, 64, 65, 66, 68, 69, 70, 72, 74, 75, 76, 77, 78, 80, 81, 82, 84, 85, 86, 87, 88, 90, 91, 92, 93, 94, 95, 96, 98, 99}\n"
     ]
    }
   ],
   "source": [
    "#even\n",
    "result = [number for number in range(1,100) for digit in range(2,10) if number%digit == 0]\n",
    "print(set(result))"
   ]
  },
  {
   "cell_type": "code",
   "execution_count": 43,
   "id": "1afc31e7",
   "metadata": {},
   "outputs": [
    {
     "name": "stdout",
     "output_type": "stream",
     "text": [
      "[2, 3, 4, 5, 6, 7, 8, 9, 10, 12, 14, 15, 16, 18, 20, 21, 22, 24, 25, 26, 27, 28, 30, 32, 33, 34, 35, 36, 38, 39, 40, 42, 44, 45, 46, 48, 49, 50, 51, 52, 54, 55, 56, 57, 58, 60, 62, 63, 64, 65, 66, 68, 69, 70, 72, 74, 75, 76, 77, 78, 80, 81, 82, 84, 85, 86, 87, 88, 90, 91, 92, 93, 94, 95, 96, 98, 99]\n"
     ]
    }
   ],
   "source": [
    "\n",
    "result = [number for number in range(1,100) if True in [True for x in range(2,10) if number % x == 0]]\n",
    "print(result)"
   ]
  },
  {
   "cell_type": "code",
   "execution_count": 2,
   "id": "9d3ef622",
   "metadata": {},
   "outputs": [
    {
     "name": "stdout",
     "output_type": "stream",
     "text": [
      "[(1, 1), (2, 4), (3, 9), (4, 16), (5, 25)]\n"
     ]
    }
   ],
   "source": [
    "#square tuples\n",
    "num_sq = [(x,x**2) for x in range(1,6)]\n",
    "print(num_sq)"
   ]
  },
  {
   "cell_type": "code",
   "execution_count": 2,
   "id": "5d363497",
   "metadata": {},
   "outputs": [
    {
     "name": "stdout",
     "output_type": "stream",
     "text": [
      "[1, 4, 27, 16, 125]\n"
     ]
    }
   ],
   "source": [
    "#list comprehension\n",
    "lst = [i**2 if i%2 == 0 else i**3 for i in range(1,6)]\n",
    "print(lst)"
   ]
  },
  {
   "cell_type": "code",
   "execution_count": 13,
   "id": "4c3aa2c9",
   "metadata": {},
   "outputs": [
    {
     "name": "stdout",
     "output_type": "stream",
     "text": [
      "[[1, 2, 3, 4, 1, 2, 3, 4], [1, 2, 3, 4, 1, 2, 3, 4], [1, 2, 3, 4, 1, 2, 3, 4], [1, 2, 3, 4, 1, 2, 3, 4], [5, 6, 7, 8, 5, 6, 7, 8], [5, 6, 7, 8, 5, 6, 7, 8], [5, 6, 7, 8, 5, 6, 7, 8], [5, 6, 7, 8, 5, 6, 7, 8], [9, 10, 11, 12, 9, 10, 11, 12], [9, 10, 11, 12, 9, 10, 11, 12], [9, 10, 11, 12, 9, 10, 11, 12], [9, 10, 11, 12, 9, 10, 11, 12], [13, 14, 15, 16, 13, 14, 15, 16], [13, 14, 15, 16, 13, 14, 15, 16], [13, 14, 15, 16, 13, 14, 15, 16], [13, 14, 15, 16, 13, 14, 15, 16]]\n"
     ]
    }
   ],
   "source": [
    "#nested for loop comprehension\n",
    "\n",
    "sec = [[1,2,3,4],[5,6,7,8],[9,10,11,12],[13,14,15,16]]\n",
    "lst_sec = [s*2 for s in sec for i in s]\n",
    "print(lst_sec)\n"
   ]
  },
  {
   "cell_type": "code",
   "execution_count": 19,
   "id": "ad509070",
   "metadata": {},
   "outputs": [
    {
     "name": "stdout",
     "output_type": "stream",
     "text": [
      "[(6, 2), (4, 8), (6, 2), (1, 3), (2, 7), (2, 7)]\n"
     ]
    }
   ],
   "source": [
    "#paired outputs\n",
    "mylist = [9, 3, 6, 1, 5, 0, 8, 2, 4, 7]\n",
    "list_b = [6, 4, 6, 1, 2, 2]\n",
    "\n",
    "res = [(i,mylist.index(i)) for i in list_b ]\n",
    "print(res)"
   ]
  },
  {
   "cell_type": "code",
   "execution_count": 28,
   "id": "7a82c610",
   "metadata": {},
   "outputs": [
    {
     "name": "stdout",
     "output_type": "stream",
     "text": [
      "{6: 2, 4: 8, 1: 3, 2: 7}\n"
     ]
    }
   ],
   "source": [
    "#dictionary comprehension\n",
    "mylist = [9, 3, 6, 1, 5, 0, 8, 2, 4, 7]\n",
    "list_b = [6, 4, 6, 1, 2, 2]\n",
    "\n",
    "result = {}\n",
    "res = {i:mylist.index(i) for i in list_b}\n",
    "print(res)"
   ]
  },
  {
   "cell_type": "code",
   "execution_count": 37,
   "id": "70c90068",
   "metadata": {},
   "outputs": [
    {
     "name": "stdout",
     "output_type": "stream",
     "text": [
      "[['new', 'world', 'record', 'was', 'set'], ['holy', 'city', 'ayodhya'], ['eve', 'diwali', 'tuesday'], ['over', 'three', 'lakh', 'diya', 'or', 'earthen', 'lamps'], ['lit', 'up', 'simultaneously', 'banks', 'sarayu', 'river']]\n"
     ]
    }
   ],
   "source": [
    "sentences = [\"a new world record was set\", \n",
    "             \"in the holy city of ayodhya\", \n",
    "             \"on the eve of diwali on tuesday\", \n",
    "             \"with over three lakh diya or earthen lamps\", \n",
    "             \"lit up simultaneously on the banks of the sarayu river\"]\n",
    "\n",
    "stopwords = ['for', 'a', 'of', 'the', 'and', 'to', 'in', 'on', 'with']\n",
    "\n",
    "results = [[word for word in sentence.split(' ') if word not in stopwords] for sentence in sentences]\n",
    "\n",
    "print(results)"
   ]
  },
  {
   "cell_type": "code",
   "execution_count": 45,
   "id": "da631f57",
   "metadata": {},
   "outputs": [
    {
     "name": "stdout",
     "output_type": "stream",
     "text": [
      "[1, 2, -3, -4, -5, -6, -7, -8, 9, 10]\n"
     ]
    }
   ],
   "source": [
    "#display negative if num is greater than 2 and less than 8\n",
    "my_list = [1,2,3,4,5,6,7,8,9,10]\n",
    "res = [-i if 2 < i < 9  else i for i in my_list]\n",
    "print(res)"
   ]
  },
  {
   "cell_type": "code",
   "execution_count": 47,
   "id": "88002c38",
   "metadata": {},
   "outputs": [
    {
     "name": "stdout",
     "output_type": "stream",
     "text": [
      "{'a': 0, 'b': 1, 'c': 2, 'd': 3, 'e': 4, 'f': 5, 'g': 6, 'h': 7, 'i': 8, 'j': 9, 'k': 10, 'l': 11, 'm': 12, 'n': 13, 'o': 14, 'p': 15, 'q': 16, 'r': 17, 's': 18, 't': 19, 'u': 20, 'v': 21, 'w': 22, 'x': 23, 'y': 24, 'z': 25}\n"
     ]
    }
   ],
   "source": [
    "alpha = {chr(i+97) : i for i in range(26)}\n",
    "print(alpha)"
   ]
  },
  {
   "cell_type": "code",
   "execution_count": 56,
   "id": "c9f8a3b4",
   "metadata": {},
   "outputs": [
    {
     "name": "stdout",
     "output_type": "stream",
     "text": [
      "[12, 5, 5, -64, 17, 21, 1, 14, -64, 25, 5, 23]\n"
     ]
    }
   ],
   "source": [
    "res = [ord(a.lower()) - 96  for a in 'Lee Quan Yew']\n",
    "print(res)"
   ]
  },
  {
   "cell_type": "code",
   "execution_count": null,
   "id": "4dbb56d0",
   "metadata": {},
   "outputs": [],
   "source": []
  }
 ],
 "metadata": {
  "kernelspec": {
   "display_name": "Python 3 (ipykernel)",
   "language": "python",
   "name": "python3"
  },
  "language_info": {
   "codemirror_mode": {
    "name": "ipython",
    "version": 3
   },
   "file_extension": ".py",
   "mimetype": "text/x-python",
   "name": "python",
   "nbconvert_exporter": "python",
   "pygments_lexer": "ipython3",
   "version": "3.11.5"
  }
 },
 "nbformat": 4,
 "nbformat_minor": 5
}
